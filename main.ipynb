{
 "cells": [
  {
   "cell_type": "code",
   "execution_count": 1,
   "metadata": {},
   "outputs": [],
   "source": []
  },
  {
   "cell_type": "code",
   "execution_count": 2,
   "metadata": {},
   "outputs": [
    {
     "name": "stderr",
     "output_type": "stream",
     "text": [
      "None of PyTorch, TensorFlow >= 2.0, or Flax have been found. Models won't be available and only tokenizers, configuration and file/data utilities can be used.\n",
      "[nltk_data] Downloading package stopwords to\n",
      "[nltk_data]     /Users/mobilehouse/nltk_data...\n",
      "[nltk_data]   Package stopwords is already up-to-date!\n",
      "[nltk_data] Downloading package punkt to\n",
      "[nltk_data]     /Users/mobilehouse/nltk_data...\n",
      "[nltk_data]   Package punkt is already up-to-date!\n"
     ]
    },
    {
     "data": {
      "text/plain": [
       "True"
      ]
     },
     "execution_count": 2,
     "metadata": {},
     "output_type": "execute_result"
    }
   ],
   "source": [
    "import nltk\n",
    "import re\n",
    "import requests\n",
    "from bs4 import BeautifulSoup\n",
    "from nltk.corpus import stopwords\n",
    "from nltk.tokenize import word_tokenize\n",
    "from tqdm import tqdm\n",
    "import string\n",
    "import random\n",
    "from transformers import BertTokenizer, BertModel\n",
    "from sklearn.metrics.pairwise import cosine_similarity\n",
    "import gensim.downloader as api\n",
    "from sklearn.feature_extraction.text import TfidfVectorizer\n",
    "\n",
    "nltk.download('stopwords')\n",
    "nltk.download('punkt')"
   ]
  },
  {
   "cell_type": "code",
   "execution_count": 3,
   "metadata": {
    "colab": {
     "base_uri": "https://localhost:8080/"
    },
    "id": "0NMuL3dIFuLJ",
    "outputId": "984ad391-fd2c-4285-84fa-10a82bece335"
   },
   "outputs": [],
   "source": [
    "def scrape_wiki(keyword, n=20):\n",
    "  url = f'https://en.wikipedia.org/w/index.php?search={keyword}&title=Special%3ASearch&profile=advanced&fulltext=1&ns0=1'\n",
    "  articales = []\n",
    "  response = requests.get(url)\n",
    "  soup = BeautifulSoup(response.text, 'html.parser')\n",
    "\n",
    "  articles = soup.find_all('div', class_='mw-search-result-heading')\n",
    "\n",
    "  for i, article in enumerate(articles[:n]):\n",
    "      title = article.find('a').text\n",
    "      link = 'https://en.wikipedia.org' + article.find('a')['href']\n",
    "\n",
    "      article_response = requests.get(link)\n",
    "      article_soup = BeautifulSoup(article_response.text, 'html.parser')\n",
    "      pars = article_soup.find_all('p')\n",
    "\n",
    "      content = ''\n",
    "      for i in pars:\n",
    "        content = content +\" \"+ i.text\n",
    "\n",
    "      articale = {'title':title , 'link':link , 'content':content}\n",
    "      articales.append(articale)\n",
    "\n",
    "  return articales\n",
    "\n",
    "def get_content(articales):\n",
    "  return ' '.join([x['content'] for x in articales])\n",
    "\n",
    "def clean_text(text):\n",
    "    cleaned_text = text.lower()\n",
    "    cleaned_text = re.sub(r'\\d+', '', cleaned_text)\n",
    "    cleaned_text = re.sub(r'[^a-z0-9\\s]', '', cleaned_text)\n",
    "    cleaned_text = re.sub(r'[()\\[\\]{}]', '', cleaned_text)\n",
    "    exclude = set(string.punctuation)\n",
    "    cleaned_text = ''.join(ch for ch in cleaned_text if ch not in exclude)\n",
    "    cleaned_text = re.sub(r'\\s+', ' ', cleaned_text).strip()\n",
    "    return cleaned_text\n",
    "\n",
    "def get_vocabs(text):\n",
    "    text = clean_text(text)\n",
    "    words =  word_tokenize(text.lower())\n",
    "    unique_words = set(words)\n",
    "    stop_words = set(stopwords.words('english'))\n",
    "    stop_words_text = [x for x in words if x in stop_words ]\n",
    "    return unique_words , stop_words_text , words\n",
    "\n",
    "def show_info(topic , articales):\n",
    "  content = get_content(articales)\n",
    "  vocabs , stopwords , cleaned_content = get_vocabs(content)\n",
    "\n",
    "  unique_vocabs_per = (len(vocabs)/len(cleaned_content))*100\n",
    "  stop_words_per = (len(stopwords)/len(cleaned_content))*100\n",
    "\n",
    "  print(topic)\n",
    "  print()\n",
    "  print('total number of articles : ', len(articales))\n",
    "  print('percentage of unique words:',round(unique_vocabs_per , 2) , \"%\")\n",
    "  print('percentage of stop_words:',round(stop_words_per ,2) , \"%\")\n",
    "  print('{0}'.format('='*50))\n"
   ]
  },
  {
   "cell_type": "code",
   "execution_count": 4,
   "metadata": {
    "id": "AYHMFkmwX5ql"
   },
   "outputs": [],
   "source": [
    "artificial_Intelligence_articales  = scrape_wiki('Artificial_Intelligence', n=20)\n",
    "machine_Learning_articales  = scrape_wiki('Machine_Learning', n=20)\n",
    "data_Science_articales  = scrape_wiki('Data_Science', n=20)"
   ]
  },
  {
   "cell_type": "code",
   "execution_count": 5,
   "metadata": {
    "colab": {
     "base_uri": "https://localhost:8080/"
    },
    "id": "-ufuUsBrPfzA",
    "outputId": "b2cba6b6-847a-430f-9113-6be27473b78b",
    "scrolled": true
   },
   "outputs": [
    {
     "name": "stdout",
     "output_type": "stream",
     "text": [
      "overall articals 60\n",
      "==================================================\n",
      "Artificial Intelligence\n",
      "\n",
      "total number of articles :  20\n",
      "percentage of unique words: 11.75 %\n",
      "percentage of stop_words: 39.64 %\n",
      "==================================================\n",
      "Machine Learning\n",
      "\n",
      "total number of articles :  20\n",
      "percentage of unique words: 11.7 %\n",
      "percentage of stop_words: 38.49 %\n",
      "==================================================\n",
      "Data Science\n",
      "\n",
      "total number of articles :  20\n",
      "percentage of unique words: 15.18 %\n",
      "percentage of stop_words: 38.86 %\n",
      "==================================================\n"
     ]
    }
   ],
   "source": [
    "print('overall articals {0}'.format(60))\n",
    "print('{0}'.format('='*50))\n",
    "\n",
    "show_info('Artificial Intelligence' , artificial_Intelligence_articales )\n",
    "show_info('Machine Learning' , machine_Learning_articales )\n",
    "show_info('Data Science' , data_Science_articales )"
   ]
  },
  {
   "cell_type": "code",
   "execution_count": 6,
   "metadata": {
    "id": "L3idvrebYMbW"
   },
   "outputs": [],
   "source": [
    "all_articales = artificial_Intelligence_articales +  machine_Learning_articales + data_Science_articales"
   ]
  },
  {
   "cell_type": "code",
   "execution_count": 7,
   "metadata": {
    "colab": {
     "base_uri": "https://localhost:8080/"
    },
    "id": "CPhweiBblvtW",
    "outputId": "5ffa29e7-974c-4b1b-d892-5f9c108443e4"
   },
   "outputs": [],
   "source": [
    "glove_model = api.load('glove-wiki-gigaword-300')"
   ]
  },
  {
   "cell_type": "code",
   "execution_count": 8,
   "metadata": {
    "id": "abstjS_KlvtW"
   },
   "outputs": [],
   "source": [
    "all_doc = []\n",
    "documents = {}\n",
    "for i in all_articales:\n",
    "    documents[i['title']] = {'content': clean_text(i['content']).split(\" \"), 'link': i['link']}\n",
    "    all_doc.append(clean_text(i['content']).split(\" \"))\n",
    "\n",
    "\n",
    "all_doc = [' '.join(i) for i in all_doc]"
   ]
  },
  {
   "cell_type": "code",
   "execution_count": 9,
   "metadata": {},
   "outputs": [
    {
     "data": {
      "text/html": [
       "<style>#sk-container-id-1 {color: black;background-color: white;}#sk-container-id-1 pre{padding: 0;}#sk-container-id-1 div.sk-toggleable {background-color: white;}#sk-container-id-1 label.sk-toggleable__label {cursor: pointer;display: block;width: 100%;margin-bottom: 0;padding: 0.3em;box-sizing: border-box;text-align: center;}#sk-container-id-1 label.sk-toggleable__label-arrow:before {content: \"▸\";float: left;margin-right: 0.25em;color: #696969;}#sk-container-id-1 label.sk-toggleable__label-arrow:hover:before {color: black;}#sk-container-id-1 div.sk-estimator:hover label.sk-toggleable__label-arrow:before {color: black;}#sk-container-id-1 div.sk-toggleable__content {max-height: 0;max-width: 0;overflow: hidden;text-align: left;background-color: #f0f8ff;}#sk-container-id-1 div.sk-toggleable__content pre {margin: 0.2em;color: black;border-radius: 0.25em;background-color: #f0f8ff;}#sk-container-id-1 input.sk-toggleable__control:checked~div.sk-toggleable__content {max-height: 200px;max-width: 100%;overflow: auto;}#sk-container-id-1 input.sk-toggleable__control:checked~label.sk-toggleable__label-arrow:before {content: \"▾\";}#sk-container-id-1 div.sk-estimator input.sk-toggleable__control:checked~label.sk-toggleable__label {background-color: #d4ebff;}#sk-container-id-1 div.sk-label input.sk-toggleable__control:checked~label.sk-toggleable__label {background-color: #d4ebff;}#sk-container-id-1 input.sk-hidden--visually {border: 0;clip: rect(1px 1px 1px 1px);clip: rect(1px, 1px, 1px, 1px);height: 1px;margin: -1px;overflow: hidden;padding: 0;position: absolute;width: 1px;}#sk-container-id-1 div.sk-estimator {font-family: monospace;background-color: #f0f8ff;border: 1px dotted black;border-radius: 0.25em;box-sizing: border-box;margin-bottom: 0.5em;}#sk-container-id-1 div.sk-estimator:hover {background-color: #d4ebff;}#sk-container-id-1 div.sk-parallel-item::after {content: \"\";width: 100%;border-bottom: 1px solid gray;flex-grow: 1;}#sk-container-id-1 div.sk-label:hover label.sk-toggleable__label {background-color: #d4ebff;}#sk-container-id-1 div.sk-serial::before {content: \"\";position: absolute;border-left: 1px solid gray;box-sizing: border-box;top: 0;bottom: 0;left: 50%;z-index: 0;}#sk-container-id-1 div.sk-serial {display: flex;flex-direction: column;align-items: center;background-color: white;padding-right: 0.2em;padding-left: 0.2em;position: relative;}#sk-container-id-1 div.sk-item {position: relative;z-index: 1;}#sk-container-id-1 div.sk-parallel {display: flex;align-items: stretch;justify-content: center;background-color: white;position: relative;}#sk-container-id-1 div.sk-item::before, #sk-container-id-1 div.sk-parallel-item::before {content: \"\";position: absolute;border-left: 1px solid gray;box-sizing: border-box;top: 0;bottom: 0;left: 50%;z-index: -1;}#sk-container-id-1 div.sk-parallel-item {display: flex;flex-direction: column;z-index: 1;position: relative;background-color: white;}#sk-container-id-1 div.sk-parallel-item:first-child::after {align-self: flex-end;width: 50%;}#sk-container-id-1 div.sk-parallel-item:last-child::after {align-self: flex-start;width: 50%;}#sk-container-id-1 div.sk-parallel-item:only-child::after {width: 0;}#sk-container-id-1 div.sk-dashed-wrapped {border: 1px dashed gray;margin: 0 0.4em 0.5em 0.4em;box-sizing: border-box;padding-bottom: 0.4em;background-color: white;}#sk-container-id-1 div.sk-label label {font-family: monospace;font-weight: bold;display: inline-block;line-height: 1.2em;}#sk-container-id-1 div.sk-label-container {text-align: center;}#sk-container-id-1 div.sk-container {/* jupyter's `normalize.less` sets `[hidden] { display: none; }` but bootstrap.min.css set `[hidden] { display: none !important; }` so we also need the `!important` here to be able to override the default hidden behavior on the sphinx rendered scikit-learn.org. See: https://github.com/scikit-learn/scikit-learn/issues/21755 */display: inline-block !important;position: relative;}#sk-container-id-1 div.sk-text-repr-fallback {display: none;}</style><div id=\"sk-container-id-1\" class=\"sk-top-container\"><div class=\"sk-text-repr-fallback\"><pre>TfidfVectorizer()</pre><b>In a Jupyter environment, please rerun this cell to show the HTML representation or trust the notebook. <br />On GitHub, the HTML representation is unable to render, please try loading this page with nbviewer.org.</b></div><div class=\"sk-container\" hidden><div class=\"sk-item\"><div class=\"sk-estimator sk-toggleable\"><input class=\"sk-toggleable__control sk-hidden--visually\" id=\"sk-estimator-id-1\" type=\"checkbox\" checked><label for=\"sk-estimator-id-1\" class=\"sk-toggleable__label sk-toggleable__label-arrow\">TfidfVectorizer</label><div class=\"sk-toggleable__content\"><pre>TfidfVectorizer()</pre></div></div></div></div></div>"
      ],
      "text/plain": [
       "TfidfVectorizer()"
      ]
     },
     "execution_count": 9,
     "metadata": {},
     "output_type": "execute_result"
    }
   ],
   "source": [
    "vectorizer = TfidfVectorizer()\n",
    "vectorizer.fit(all_doc)"
   ]
  },
  {
   "cell_type": "code",
   "execution_count": 10,
   "metadata": {
    "id": "SjPAhhYVlvtW"
   },
   "outputs": [
    {
     "name": "stderr",
     "output_type": "stream",
     "text": [
      "100%|██████████| 59/59 [00:00<00:00, 173.65it/s]\n"
     ]
    }
   ],
   "source": [
    "import numpy as np\n",
    "def glove_embbed(text):\n",
    "    embedd = []\n",
    "    unk_tokens_count = []\n",
    "    for token in text:\n",
    "        try:\n",
    "            embedd.append(glove_model[token])\n",
    "        except:\n",
    "            #will go for except if token is not in Glove corpus\n",
    "            unk_tokens_count.append(token)\n",
    "            embedd.append(glove_model['unk'])\n",
    "\n",
    "    return np.array(embedd),unk_tokens_count\n",
    "\n",
    "embedding_index = {}\n",
    "total_unk_tokens = []\n",
    "tf_idf_embed = {}\n",
    "\n",
    "for document in tqdm(list(documents.keys())):\n",
    "\n",
    "\n",
    "    doc_embed = vectorizer.transform(documents[document]['content'])\n",
    "    tf_idf_embed[document] = doc_embed\n",
    "    doc_embed , unk_tokens_doc = glove_embbed(documents[document]['content'])\n",
    "    total_unk_tokens.extend(unk_tokens_doc)\n",
    "    embedding_index[document] = doc_embed\n",
    "\n"
   ]
  },
  {
   "cell_type": "code",
   "execution_count": 11,
   "metadata": {
    "id": "mkZ8495alvtX"
   },
   "outputs": [],
   "source": [
    "#100*(len(total_unk_tokens) / len([item for row in list(documents.values()) for item in row]))"
   ]
  },
  {
   "cell_type": "code",
   "execution_count": 12,
   "metadata": {
    "id": "6r2sjRaNlvtX"
   },
   "outputs": [
    {
     "data": {
      "text/plain": [
       "'\\nresults_glove = {}\\nresluts_tfidf = {}\\n\\nquery = \\'generative ai\\'\\n\\nquerey_cleaned = clean_text(query).split(\" \")\\nquery_embeds_glove = glove_embbed(querey_cleaned)[0]\\nquery_embeds_tfidf = vectorizer.transform(querey_cleaned)\\n\\nfor articale in tqdm(list(embedding_index.keys())):\\n  similarity_score_glove = cosine_similarity(embedding_index[articale], query_embeds_glove)\\n  similarity_score_tfidf = cosine_similarity(tf_idf_embed[articale], query_embeds_tfidf)\\n    \\n  results_glove[articale] = similarity_score_glove.flatten().mean()\\n  resluts_tfidf[articale] = similarity_score_tfidf.flatten().mean()\\n  \\n    \\nresults_glove = dict(sorted(results_glove.items(), key=lambda item: item[1] , reverse=True))\\nresluts_tfidf = dict(sorted(resluts_tfidf.items(), key=lambda item: item[1] , reverse=True))\\n\\nresults_weghiteds_sum = {}\\nfor i in list(documents.keys()):\\n    result = results_glove[i] * 0.7 + resluts_tfidf[i] * 0.3\\n    results_weghiteds_sum[i] = result\\n    \\nresults_weghiteds_sum = dict(sorted(results_weghiteds_sum.items(), key=lambda item: item[1] , reverse=True))\\nresults_weghiteds_sum\\n'"
      ]
     },
     "execution_count": 12,
     "metadata": {},
     "output_type": "execute_result"
    }
   ],
   "source": [
    "'''\n",
    "results_glove = {}\n",
    "resluts_tfidf = {}\n",
    "\n",
    "query = 'generative ai'\n",
    "\n",
    "querey_cleaned = clean_text(query).split(\" \")\n",
    "query_embeds_glove = glove_embbed(querey_cleaned)[0]\n",
    "query_embeds_tfidf = vectorizer.transform(querey_cleaned)\n",
    "\n",
    "for articale in tqdm(list(embedding_index.keys())):\n",
    "  similarity_score_glove = cosine_similarity(embedding_index[articale], query_embeds_glove)\n",
    "  similarity_score_tfidf = cosine_similarity(tf_idf_embed[articale], query_embeds_tfidf)\n",
    "    \n",
    "  results_glove[articale] = similarity_score_glove.flatten().mean()\n",
    "  resluts_tfidf[articale] = similarity_score_tfidf.flatten().mean()\n",
    "  \n",
    "    \n",
    "results_glove = dict(sorted(results_glove.items(), key=lambda item: item[1] , reverse=True))\n",
    "resluts_tfidf = dict(sorted(resluts_tfidf.items(), key=lambda item: item[1] , reverse=True))\n",
    "\n",
    "results_weghiteds_sum = {}\n",
    "for i in list(documents.keys()):\n",
    "    result = results_glove[i] * 0.7 + resluts_tfidf[i] * 0.3\n",
    "    results_weghiteds_sum[i] = result\n",
    "    \n",
    "results_weghiteds_sum = dict(sorted(results_weghiteds_sum.items(), key=lambda item: item[1] , reverse=True))\n",
    "results_weghiteds_sum\n",
    "'''"
   ]
  },
  {
   "cell_type": "code",
   "execution_count": 31,
   "metadata": {
    "id": "UnxAwlSfeNDN"
   },
   "outputs": [
    {
     "name": "stderr",
     "output_type": "stream",
     "text": [
      "100%|██████████| 59/59 [00:00<00:00, 500.26it/s]\n",
      "100%|██████████| 59/59 [00:00<00:00, 534.57it/s]\n"
     ]
    },
    {
     "name": "stdout",
     "output_type": "stream",
     "text": [
      "-0.007452624849975109\n"
     ]
    },
    {
     "name": "stderr",
     "output_type": "stream",
     "text": [
      "100%|██████████| 59/59 [00:00<00:00, 484.48it/s]\n"
     ]
    },
    {
     "name": "stdout",
     "output_type": "stream",
     "text": [
      "0.08871650067182629\n"
     ]
    },
    {
     "name": "stderr",
     "output_type": "stream",
     "text": [
      "100%|██████████| 59/59 [00:00<00:00, 568.55it/s]\n"
     ]
    },
    {
     "name": "stdout",
     "output_type": "stream",
     "text": [
      "0.08104007675995889\n"
     ]
    },
    {
     "name": "stderr",
     "output_type": "stream",
     "text": [
      "100%|██████████| 59/59 [00:00<00:00, 556.22it/s]\n"
     ]
    },
    {
     "name": "stdout",
     "output_type": "stream",
     "text": [
      "0.025658514350652695\n"
     ]
    },
    {
     "name": "stderr",
     "output_type": "stream",
     "text": [
      "100%|██████████| 59/59 [00:00<00:00, 521.15it/s]\n"
     ]
    },
    {
     "name": "stdout",
     "output_type": "stream",
     "text": [
      "0.025658514350652695\n"
     ]
    },
    {
     "name": "stderr",
     "output_type": "stream",
     "text": [
      "100%|██████████| 59/59 [00:00<00:00, 542.30it/s]\n",
      "100%|██████████| 59/59 [00:00<00:00, 568.89it/s]\n"
     ]
    },
    {
     "name": "stdout",
     "output_type": "stream",
     "text": [
      "0.025658514350652695\n"
     ]
    },
    {
     "name": "stderr",
     "output_type": "stream",
     "text": [
      "100%|██████████| 59/59 [00:00<00:00, 752.71it/s]\n"
     ]
    },
    {
     "name": "stdout",
     "output_type": "stream",
     "text": [
      "0.025658514350652695\n"
     ]
    },
    {
     "name": "stderr",
     "output_type": "stream",
     "text": [
      "100%|██████████| 59/59 [00:00<00:00, 717.54it/s]\n"
     ]
    },
    {
     "name": "stdout",
     "output_type": "stream",
     "text": [
      "0.025658514350652695\n"
     ]
    }
   ],
   "source": [
    "import tkinter as tk\n",
    "import webbrowser\n",
    "\n",
    "def clean_text(text):\n",
    "    cleaned_text = text.lower()\n",
    "    cleaned_text = re.sub(r'\\d+', '', cleaned_text)\n",
    "    cleaned_text = re.sub(r'[^a-z0-9\\s]', '', cleaned_text)\n",
    "    cleaned_text = re.sub(r'[()\\[\\]{}]', '', cleaned_text)\n",
    "    exclude = set(string.punctuation)\n",
    "    cleaned_text = ''.join(ch for ch in cleaned_text if ch not in exclude)\n",
    "    cleaned_text = re.sub(r'\\s+', ' ', cleaned_text).strip()\n",
    "    return cleaned_text\n",
    "\n",
    "def open_link(event):\n",
    "    widget = event.widget\n",
    "    index = widget.index(tk.CURRENT)\n",
    "    hyperlink = widget.get(f\"{index} linestart\", f\"{index} lineend\")\n",
    "    webbrowser.open(hyperlink)\n",
    "\n",
    "def search():\n",
    "    results_glove = {}\n",
    "    resluts_tfidf = {}\n",
    "    query = entry.get()\n",
    "    querey_cleaned = clean_text(query).split(\" \")\n",
    "    query_embeds_glove = glove_embbed(querey_cleaned)[0]\n",
    "    query_embeds_tfidf = vectorizer.transform(querey_cleaned)\n",
    "    \n",
    "    for articale in tqdm(list(embedding_index.keys())):\n",
    "      similarity_score_glove = cosine_similarity(embedding_index[articale], query_embeds_glove)\n",
    "      similarity_score_tfidf = cosine_similarity(tf_idf_embed[articale], query_embeds_tfidf)\n",
    "        \n",
    "      results_glove[articale] = similarity_score_glove.flatten().mean()\n",
    "      resluts_tfidf[articale] = similarity_score_tfidf.flatten().mean()\n",
    "      \n",
    "        \n",
    "    results_glove = dict(sorted(results_glove.items(), key=lambda item: item[1] , reverse=True))\n",
    "    resluts_tfidf = dict(sorted(resluts_tfidf.items(), key=lambda item: item[1] , reverse=True))\n",
    "    \n",
    "    results_weghiteds_sum = {}\n",
    "    for i in list(documents.keys()):\n",
    "        result = (results_glove[i] + resluts_tfidf[i] ) /2 \n",
    "        results_weghiteds_sum[i] = result\n",
    "        \n",
    "    top_10_results = sorted(results_weghiteds_sum.items(), key=lambda item: item[1], reverse=True)[:10]   \n",
    " \n",
    "    result_text.delete(1.0, tk.END)\n",
    "    \n",
    "    if top_10_results[0][1] < 0.1:\n",
    "        result_text.insert(tk.END , \"No Results\")\n",
    "        print(top_10_results[0][1])\n",
    "    else:\n",
    "        for result in top_10_results:\n",
    "            title = result[0]\n",
    "            similarity_score = result[1]\n",
    "            hyperlink = documents[title]['link']\n",
    "            result_text.insert(tk.END, f\"Title: {title}\\nSimilarity Score: {similarity_score}\\n\")\n",
    "            # Create a clickable hyperlink\n",
    "            result_text.insert(tk.END, f\"{hyperlink}\\n\", \"hyperlink\")\n",
    "            result_text.tag_bind(\"hyperlink\", \"<Button-1>\", open_link)\n",
    "            result_text.insert(tk.END, \"\\n\\n\")\n",
    "\n",
    "# Create the main window\n",
    "root = tk.Tk()\n",
    "root.title(\"Article Search\")\n",
    "\n",
    "# Styling\n",
    "root.configure(bg='#f0f0f0')\n",
    "root.geometry('600x400')\n",
    "\n",
    "# Create a label and entry for the search query\n",
    "label = tk.Label(root, text=\" Enter your query:    \", font=('Arial', 12), bg='#f0f0f0')\n",
    "label.pack(pady=10)\n",
    "entry = tk.Entry(root, width=50, font=('Arial', 12))\n",
    "entry.pack(pady=5)\n",
    "\n",
    "# Create a search button\n",
    "search_button = tk.Button(root, text=\"Search\", command=search, font=('Arial', 12), bg='#4caf50', fg='white')\n",
    "search_button.pack(pady=10)\n",
    "\n",
    "# Create a text widget to display search results\n",
    "result_text = tk.Text(root, wrap=tk.WORD, width=80, height=20, font=('Arial', 12))\n",
    "result_text.pack(pady=10)\n",
    "\n",
    "# Start the GUI event loop\n",
    "root.mainloop()\n"
   ]
  }
 ],
 "metadata": {
  "accelerator": "GPU",
  "colab": {
   "gpuType": "T4",
   "provenance": []
  },
  "kernelspec": {
   "display_name": "Python 3 (ipykernel)",
   "language": "python",
   "name": "python3"
  },
  "language_info": {
   "codemirror_mode": {
    "name": "ipython",
    "version": 3
   },
   "file_extension": ".py",
   "mimetype": "text/x-python",
   "name": "python",
   "nbconvert_exporter": "python",
   "pygments_lexer": "ipython3",
   "version": "3.11.7"
  }
 },
 "nbformat": 4,
 "nbformat_minor": 4
}
